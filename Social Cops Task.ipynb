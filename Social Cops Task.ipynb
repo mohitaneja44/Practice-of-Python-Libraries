{
 "cells": [
  {
   "cell_type": "code",
   "execution_count": 2,
   "metadata": {},
   "outputs": [],
   "source": [
    "#importing libraries\n",
    "import pandas as pd \n",
    "import numpy as np \n",
    "import matplotlib.pyplot as plt\n",
    "import seaborn as sns\n",
    "#to view the graphs in jupyter notebook\n",
    "%matplotlib inline"
   ]
  },
  {
   "cell_type": "code",
   "execution_count": 3,
   "metadata": {},
   "outputs": [
    {
     "data": {
      "text/html": [
       "<div>\n",
       "<style scoped>\n",
       "    .dataframe tbody tr th:only-of-type {\n",
       "        vertical-align: middle;\n",
       "    }\n",
       "\n",
       "    .dataframe tbody tr th {\n",
       "        vertical-align: top;\n",
       "    }\n",
       "\n",
       "    .dataframe thead th {\n",
       "        text-align: right;\n",
       "    }\n",
       "</style>\n",
       "<table border=\"1\" class=\"dataframe\">\n",
       "  <thead>\n",
       "    <tr style=\"text-align: right;\">\n",
       "      <th></th>\n",
       "      <th>code</th>\n",
       "      <th>2015-04-01 00:00:00</th>\n",
       "      <th>2015-05-01 00:00:00</th>\n",
       "      <th>2015-06-01 00:00:00</th>\n",
       "      <th>2015-07-01 00:00:00</th>\n",
       "      <th>2015-08-01 00:00:00</th>\n",
       "      <th>2015-09-01 00:00:00</th>\n",
       "      <th>2015-10-01 00:00:00</th>\n",
       "      <th>2015-11-01 00:00:00</th>\n",
       "      <th>2015-12-01 00:00:00</th>\n",
       "      <th>2016-01-01 00:00:00</th>\n",
       "      <th>2016-02-01 00:00:00</th>\n",
       "      <th>2016-03-01 00:00:00</th>\n",
       "      <th>Total</th>\n",
       "      <th>Facility</th>\n",
       "      <th>Block</th>\n",
       "      <th>area</th>\n",
       "      <th>Name of facility</th>\n",
       "    </tr>\n",
       "  </thead>\n",
       "  <tbody>\n",
       "    <tr>\n",
       "      <th>0</th>\n",
       "      <td>M1 |  Ante Natal Care Services ANC | 1.1 |  To...</td>\n",
       "      <td>6</td>\n",
       "      <td>5</td>\n",
       "      <td>9</td>\n",
       "      <td>8</td>\n",
       "      <td>5</td>\n",
       "      <td>5</td>\n",
       "      <td>7</td>\n",
       "      <td>3</td>\n",
       "      <td>6</td>\n",
       "      <td>6</td>\n",
       "      <td>7</td>\n",
       "      <td>4</td>\n",
       "      <td>71</td>\n",
       "      <td>SC</td>\n",
       "      <td>Ramtek</td>\n",
       "      <td>Karwahi</td>\n",
       "      <td>Karwahi</td>\n",
       "    </tr>\n",
       "    <tr>\n",
       "      <th>1</th>\n",
       "      <td>1.1.1 |  Of which Number registered within fir...</td>\n",
       "      <td>3</td>\n",
       "      <td>4</td>\n",
       "      <td>9</td>\n",
       "      <td>4</td>\n",
       "      <td>4</td>\n",
       "      <td>3</td>\n",
       "      <td>5</td>\n",
       "      <td>2</td>\n",
       "      <td>5</td>\n",
       "      <td>6</td>\n",
       "      <td>6</td>\n",
       "      <td>4</td>\n",
       "      <td>55</td>\n",
       "      <td>SC</td>\n",
       "      <td>Ramtek</td>\n",
       "      <td>Karwahi</td>\n",
       "      <td>Karwahi</td>\n",
       "    </tr>\n",
       "    <tr>\n",
       "      <th>2</th>\n",
       "      <td>1.2 |  New women registered under JSY | TOTAL</td>\n",
       "      <td>6</td>\n",
       "      <td>5</td>\n",
       "      <td>9</td>\n",
       "      <td>7</td>\n",
       "      <td>5</td>\n",
       "      <td>4</td>\n",
       "      <td>5</td>\n",
       "      <td>3</td>\n",
       "      <td>3</td>\n",
       "      <td>3</td>\n",
       "      <td>7</td>\n",
       "      <td>4</td>\n",
       "      <td>61</td>\n",
       "      <td>SC</td>\n",
       "      <td>Ramtek</td>\n",
       "      <td>Karwahi</td>\n",
       "      <td>Karwahi</td>\n",
       "    </tr>\n",
       "    <tr>\n",
       "      <th>3</th>\n",
       "      <td>1.3 |  Number of pregnant women received 3 ANC...</td>\n",
       "      <td>7</td>\n",
       "      <td>8</td>\n",
       "      <td>7</td>\n",
       "      <td>7</td>\n",
       "      <td>9</td>\n",
       "      <td>8</td>\n",
       "      <td>4</td>\n",
       "      <td>6</td>\n",
       "      <td>6</td>\n",
       "      <td>6</td>\n",
       "      <td>6</td>\n",
       "      <td>6</td>\n",
       "      <td>80</td>\n",
       "      <td>SC</td>\n",
       "      <td>Ramtek</td>\n",
       "      <td>Karwahi</td>\n",
       "      <td>Karwahi</td>\n",
       "    </tr>\n",
       "    <tr>\n",
       "      <th>4</th>\n",
       "      <td>1.4 |  Number of pregnant women given | 1.4.1 ...</td>\n",
       "      <td>6</td>\n",
       "      <td>5</td>\n",
       "      <td>7</td>\n",
       "      <td>8</td>\n",
       "      <td>5</td>\n",
       "      <td>6</td>\n",
       "      <td>5</td>\n",
       "      <td>3</td>\n",
       "      <td>5</td>\n",
       "      <td>5</td>\n",
       "      <td>7</td>\n",
       "      <td>2</td>\n",
       "      <td>64</td>\n",
       "      <td>SC</td>\n",
       "      <td>Ramtek</td>\n",
       "      <td>Karwahi</td>\n",
       "      <td>Karwahi</td>\n",
       "    </tr>\n",
       "  </tbody>\n",
       "</table>\n",
       "</div>"
      ],
      "text/plain": [
       "                                                code  2015-04-01 00:00:00  \\\n",
       "0  M1 |  Ante Natal Care Services ANC | 1.1 |  To...                    6   \n",
       "1  1.1.1 |  Of which Number registered within fir...                    3   \n",
       "2      1.2 |  New women registered under JSY | TOTAL                    6   \n",
       "3  1.3 |  Number of pregnant women received 3 ANC...                    7   \n",
       "4  1.4 |  Number of pregnant women given | 1.4.1 ...                    6   \n",
       "\n",
       "   2015-05-01 00:00:00  2015-06-01 00:00:00  2015-07-01 00:00:00  \\\n",
       "0                    5                    9                    8   \n",
       "1                    4                    9                    4   \n",
       "2                    5                    9                    7   \n",
       "3                    8                    7                    7   \n",
       "4                    5                    7                    8   \n",
       "\n",
       "   2015-08-01 00:00:00  2015-09-01 00:00:00  2015-10-01 00:00:00  \\\n",
       "0                    5                    5                    7   \n",
       "1                    4                    3                    5   \n",
       "2                    5                    4                    5   \n",
       "3                    9                    8                    4   \n",
       "4                    5                    6                    5   \n",
       "\n",
       "   2015-11-01 00:00:00  2015-12-01 00:00:00  2016-01-01 00:00:00  \\\n",
       "0                    3                    6                    6   \n",
       "1                    2                    5                    6   \n",
       "2                    3                    3                    3   \n",
       "3                    6                    6                    6   \n",
       "4                    3                    5                    5   \n",
       "\n",
       "   2016-02-01 00:00:00  2016-03-01 00:00:00  Total Facility   Block     area  \\\n",
       "0                    7                    4     71       SC  Ramtek  Karwahi   \n",
       "1                    6                    4     55       SC  Ramtek  Karwahi   \n",
       "2                    7                    4     61       SC  Ramtek  Karwahi   \n",
       "3                    6                    6     80       SC  Ramtek  Karwahi   \n",
       "4                    7                    2     64       SC  Ramtek  Karwahi   \n",
       "\n",
       "  Name of facility  \n",
       "0          Karwahi  \n",
       "1          Karwahi  \n",
       "2          Karwahi  \n",
       "3          Karwahi  \n",
       "4          Karwahi  "
      ]
     },
     "execution_count": 3,
     "metadata": {},
     "output_type": "execute_result"
    }
   ],
   "source": [
    "# Importing the dataset\n",
    "dataset = pd.read_excel('SocialCops_Task_Research Associate_Dataset_v2.xlsx')\n",
    "dataset.head()\n",
    "\n"
   ]
  },
  {
   "cell_type": "code",
   "execution_count": 4,
   "metadata": {},
   "outputs": [
    {
     "data": {
      "text/plain": [
       "(111969, 18)"
      ]
     },
     "execution_count": 4,
     "metadata": {},
     "output_type": "execute_result"
    }
   ],
   "source": [
    "\n",
    "d = dataset #so that we don't have to type 'dataset' everytime\n",
    "d.shape #finding the no. of rows and columns\n"
   ]
  },
  {
   "cell_type": "code",
   "execution_count": 5,
   "metadata": {},
   "outputs": [
    {
     "data": {
      "text/html": [
       "<div>\n",
       "<style scoped>\n",
       "    .dataframe tbody tr th:only-of-type {\n",
       "        vertical-align: middle;\n",
       "    }\n",
       "\n",
       "    .dataframe tbody tr th {\n",
       "        vertical-align: top;\n",
       "    }\n",
       "\n",
       "    .dataframe thead th {\n",
       "        text-align: right;\n",
       "    }\n",
       "</style>\n",
       "<table border=\"1\" class=\"dataframe\">\n",
       "  <thead>\n",
       "    <tr style=\"text-align: right;\">\n",
       "      <th></th>\n",
       "      <th>code</th>\n",
       "      <th>2015-04-01 00:00:00</th>\n",
       "      <th>2015-05-01 00:00:00</th>\n",
       "      <th>2015-06-01 00:00:00</th>\n",
       "      <th>2015-07-01 00:00:00</th>\n",
       "      <th>2015-08-01 00:00:00</th>\n",
       "      <th>2015-09-01 00:00:00</th>\n",
       "      <th>2015-10-01 00:00:00</th>\n",
       "      <th>2015-11-01 00:00:00</th>\n",
       "      <th>2015-12-01 00:00:00</th>\n",
       "      <th>2016-01-01 00:00:00</th>\n",
       "      <th>2016-02-01 00:00:00</th>\n",
       "      <th>2016-03-01 00:00:00</th>\n",
       "      <th>Total</th>\n",
       "      <th>Facility</th>\n",
       "      <th>Block</th>\n",
       "      <th>area</th>\n",
       "      <th>Name of facility</th>\n",
       "    </tr>\n",
       "  </thead>\n",
       "  <tbody>\n",
       "    <tr>\n",
       "      <th>0</th>\n",
       "      <td>M1 |  Ante Natal Care Services ANC | 1.1 |  To...</td>\n",
       "      <td>6</td>\n",
       "      <td>5</td>\n",
       "      <td>9</td>\n",
       "      <td>8</td>\n",
       "      <td>5</td>\n",
       "      <td>5</td>\n",
       "      <td>7</td>\n",
       "      <td>3</td>\n",
       "      <td>6</td>\n",
       "      <td>6</td>\n",
       "      <td>7</td>\n",
       "      <td>4</td>\n",
       "      <td>71</td>\n",
       "      <td>SC</td>\n",
       "      <td>Ramtek</td>\n",
       "      <td>Karwahi</td>\n",
       "      <td>Karwahi</td>\n",
       "    </tr>\n",
       "  </tbody>\n",
       "</table>\n",
       "</div>"
      ],
      "text/plain": [
       "                                                code  2015-04-01 00:00:00  \\\n",
       "0  M1 |  Ante Natal Care Services ANC | 1.1 |  To...                    6   \n",
       "\n",
       "   2015-05-01 00:00:00  2015-06-01 00:00:00  2015-07-01 00:00:00  \\\n",
       "0                    5                    9                    8   \n",
       "\n",
       "   2015-08-01 00:00:00  2015-09-01 00:00:00  2015-10-01 00:00:00  \\\n",
       "0                    5                    5                    7   \n",
       "\n",
       "   2015-11-01 00:00:00  2015-12-01 00:00:00  2016-01-01 00:00:00  \\\n",
       "0                    3                    6                    6   \n",
       "\n",
       "   2016-02-01 00:00:00  2016-03-01 00:00:00  Total Facility   Block     area  \\\n",
       "0                    7                    4     71       SC  Ramtek  Karwahi   \n",
       "\n",
       "  Name of facility  \n",
       "0          Karwahi  "
      ]
     },
     "execution_count": 5,
     "metadata": {},
     "output_type": "execute_result"
    }
   ],
   "source": [
    "d.head(1) #checking the headings of the dataset"
   ]
  },
  {
   "cell_type": "code",
   "execution_count": 6,
   "metadata": {},
   "outputs": [
    {
     "data": {
      "text/plain": [
       "  Female                                                                3770\n",
       "  Total {(a) to (b)}                                                    2639\n",
       "  Others                                                                2639\n",
       "  At Sub-divisional hospitals/ District Hospitals                       2262\n",
       "  At CHCs                                                               2262\n",
       "  At Other State Owned Public Institutions                              2262\n",
       "  Measles                                                               1885\n",
       "  Malaria                                                               1885\n",
       "  Trauma/Accidents/Burn cases                                           1508\n",
       "  Respiratory diseases including infections (other than TB)             1508\n",
       "  Known Chronic Disease                                                 1508\n",
       "  Other Fever Related                                                   1508\n",
       "  Neurological disease including strokes                                1508\n",
       "  Animal bites and stings                                               1508\n",
       "  Causes not known                                                      1508\n",
       "  Heart disease/Hypertension related                                    1508\n",
       "  HIV/AIDS                                                              1508\n",
       "  Tuberculosis                                                          1508\n",
       "  Total {(a) to (d)}                                                    1508\n",
       "  Suicide                                                               1508\n",
       "  Diarrhoeal diseases                                                   1131\n",
       "  Total {(a) to (c)}                                                    1131\n",
       "  Female with ANC                                                       1131\n",
       "  Diarrhoea                                                             1131\n",
       "  Fever related                                                         1131\n",
       "  LBW                                                                   1131\n",
       "  Asphyxia                                                              1131\n",
       "  Female-Non ANC                                                        1131\n",
       "  At Private facilities                                                 1131\n",
       "  Known Acute Disease                                                   1131\n",
       "  Private facilities                                                    1131\n",
       "  Obstructed/prolonged labour                                            754\n",
       "  High fever                                                             754\n",
       "  Severe hypertesnion/fits                                               754\n",
       "  ASHAs                                                                  754\n",
       "  Other Causes (including causes not known)                              754\n",
       "  Pneumonia                                                              754\n",
       "  Bleeding                                                               754\n",
       "  Male                                                                   754\n",
       "  Abortion                                                               754\n",
       "  Sepsis                                                                 754\n",
       "  ANM or AWW (only for HPS States)                                       754\n",
       "  Quality in sterilization services                                      377\n",
       "  Total {(3.1.1) to (3.1.4)}                                             377\n",
       "  Immunisation Status                                                    377\n",
       "  Out of 14.13.1, Gynecology-Hysterectomy Surgeries                      377\n",
       "  Non SBA (Trained TBA/Relatives/etc.)                                   377\n",
       "  DPT1                                                                   377\n",
       "  Women getting a post partum check up between 48 hours and 14 days      377\n",
       "  DPT2                                                                   377\n",
       "Name: Reason, dtype: int64"
      ]
     },
     "execution_count": 6,
     "metadata": {},
     "output_type": "execute_result"
    }
   ],
   "source": [
    "t = d['Total'] #dataframe for the total no. of instances \n",
    "d['Reason']= d['code'].apply(lambda x: x.split('|')[1])  #splitting the 'code' values into different strings, and taking the first index string\n",
    "d['Reason'].value_counts().head(50) #show the top 50 values\n",
    "\n"
   ]
  },
  {
   "cell_type": "code",
   "execution_count": 7,
   "metadata": {},
   "outputs": [
    {
     "data": {
      "text/plain": [
       "'\\n  Measles                                                               1885\\n  Malaria                                                               1885\\n  Trauma/Accidents/Burn cases                                           1508\\n  Respiratory diseases including infections (other than TB)             1508\\n  Known Chronic Disease                                                 1508\\n\\n'"
      ]
     },
     "execution_count": 7,
     "metadata": {},
     "output_type": "execute_result"
    }
   ],
   "source": [
    "#from the above results it is clear that the top 5 diseases/health issues are: \n",
    "\n",
    "'''\n",
    "  Measles                                                               1885\n",
    "  Malaria                                                               1885\n",
    "  Trauma/Accidents/Burn cases                                           1508\n",
    "  Respiratory diseases including infections (other than TB)             1508\n",
    "  Known Chronic Disease                                                 1508\n",
    "\n",
    "'''"
   ]
  },
  {
   "cell_type": "code",
   "execution_count": 8,
   "metadata": {},
   "outputs": [
    {
     "data": {
      "text/plain": [
       "array([u'code', datetime.datetime(2015, 4, 1, 0, 0),\n",
       "       datetime.datetime(2015, 5, 1, 0, 0),\n",
       "       datetime.datetime(2015, 6, 1, 0, 0),\n",
       "       datetime.datetime(2015, 7, 1, 0, 0),\n",
       "       datetime.datetime(2015, 8, 1, 0, 0),\n",
       "       datetime.datetime(2015, 9, 1, 0, 0),\n",
       "       datetime.datetime(2015, 10, 1, 0, 0),\n",
       "       datetime.datetime(2015, 11, 1, 0, 0),\n",
       "       datetime.datetime(2015, 12, 1, 0, 0),\n",
       "       datetime.datetime(2016, 1, 1, 0, 0),\n",
       "       datetime.datetime(2016, 2, 1, 0, 0),\n",
       "       datetime.datetime(2016, 3, 1, 0, 0), u'Total', u'Facility',\n",
       "       u'Block', u'area', u'Name of facility', 'Reason'], dtype=object)"
      ]
     },
     "execution_count": 8,
     "metadata": {},
     "output_type": "execute_result"
    }
   ],
   "source": [
    "d.columns.values"
   ]
  },
  {
   "cell_type": "code",
   "execution_count": 9,
   "metadata": {},
   "outputs": [],
   "source": [
    "d['April 2015'] = d[d.columns.values[1]]\n",
    "d['May 2015'] = d[d.columns.values[2]]\n",
    "d['June 2015'] = d[d.columns.values[3]]\n",
    "d['July 2015'] = d[d.columns.values[4]]\n",
    "d['August 2015'] = d[d.columns.values[5]]\n",
    "d['September 2015'] = d[d.columns.values[6]]\n",
    "d['October 2015'] = d[d.columns.values[7]]\n",
    "d['November 2015'] = d[d.columns.values[8]]\n",
    "d['December 2015'] = d[d.columns.values[9]]\n",
    "d['January 2016'] = d[d.columns.values[10]]\n",
    "d['February 2016'] = d[d.columns.values[11]]\n",
    "d['March 2016'] = d[d.columns.values[12]] \n",
    "\n",
    "#for better readibility of the data (Month-year instead of date and time)\n"
   ]
  },
  {
   "cell_type": "code",
   "execution_count": 10,
   "metadata": {},
   "outputs": [
    {
     "data": {
      "text/html": [
       "<div>\n",
       "<style scoped>\n",
       "    .dataframe tbody tr th:only-of-type {\n",
       "        vertical-align: middle;\n",
       "    }\n",
       "\n",
       "    .dataframe tbody tr th {\n",
       "        vertical-align: top;\n",
       "    }\n",
       "\n",
       "    .dataframe thead th {\n",
       "        text-align: right;\n",
       "    }\n",
       "</style>\n",
       "<table border=\"1\" class=\"dataframe\">\n",
       "  <thead>\n",
       "    <tr style=\"text-align: right;\">\n",
       "      <th></th>\n",
       "      <th>code</th>\n",
       "      <th>2015-04-01 00:00:00</th>\n",
       "      <th>2015-05-01 00:00:00</th>\n",
       "      <th>2015-06-01 00:00:00</th>\n",
       "      <th>2015-07-01 00:00:00</th>\n",
       "      <th>2015-08-01 00:00:00</th>\n",
       "      <th>2015-09-01 00:00:00</th>\n",
       "      <th>2015-10-01 00:00:00</th>\n",
       "      <th>2015-11-01 00:00:00</th>\n",
       "      <th>2015-12-01 00:00:00</th>\n",
       "      <th>...</th>\n",
       "      <th>June 2015</th>\n",
       "      <th>July 2015</th>\n",
       "      <th>August 2015</th>\n",
       "      <th>September 2015</th>\n",
       "      <th>October 2015</th>\n",
       "      <th>November 2015</th>\n",
       "      <th>December 2015</th>\n",
       "      <th>January 2016</th>\n",
       "      <th>February 2016</th>\n",
       "      <th>March 2016</th>\n",
       "    </tr>\n",
       "  </thead>\n",
       "  <tbody>\n",
       "    <tr>\n",
       "      <th>0</th>\n",
       "      <td>M1 |  Ante Natal Care Services ANC | 1.1 |  To...</td>\n",
       "      <td>6</td>\n",
       "      <td>5</td>\n",
       "      <td>9</td>\n",
       "      <td>8</td>\n",
       "      <td>5</td>\n",
       "      <td>5</td>\n",
       "      <td>7</td>\n",
       "      <td>3</td>\n",
       "      <td>6</td>\n",
       "      <td>...</td>\n",
       "      <td>9</td>\n",
       "      <td>8</td>\n",
       "      <td>5</td>\n",
       "      <td>5</td>\n",
       "      <td>7</td>\n",
       "      <td>3</td>\n",
       "      <td>6</td>\n",
       "      <td>6</td>\n",
       "      <td>7</td>\n",
       "      <td>4</td>\n",
       "    </tr>\n",
       "  </tbody>\n",
       "</table>\n",
       "<p>1 rows × 31 columns</p>\n",
       "</div>"
      ],
      "text/plain": [
       "                                                code  2015-04-01 00:00:00  \\\n",
       "0  M1 |  Ante Natal Care Services ANC | 1.1 |  To...                    6   \n",
       "\n",
       "   2015-05-01 00:00:00  2015-06-01 00:00:00  2015-07-01 00:00:00  \\\n",
       "0                    5                    9                    8   \n",
       "\n",
       "   2015-08-01 00:00:00  2015-09-01 00:00:00  2015-10-01 00:00:00  \\\n",
       "0                    5                    5                    7   \n",
       "\n",
       "   2015-11-01 00:00:00  2015-12-01 00:00:00     ...      June 2015  July 2015  \\\n",
       "0                    3                    6     ...              9          8   \n",
       "\n",
       "   August 2015  September 2015 October 2015 November 2015 December 2015  \\\n",
       "0            5               5            7             3             6   \n",
       "\n",
       "  January 2016 February 2016  March 2016  \n",
       "0            6             7           4  \n",
       "\n",
       "[1 rows x 31 columns]"
      ]
     },
     "execution_count": 10,
     "metadata": {},
     "output_type": "execute_result"
    }
   ],
   "source": [
    "d.head(1)"
   ]
  },
  {
   "cell_type": "code",
   "execution_count": 11,
   "metadata": {},
   "outputs": [],
   "source": [
    "d.drop(d.columns.values[1:13],axis=1, inplace=True) #deleting the columns from 1 to 12 "
   ]
  },
  {
   "cell_type": "code",
   "execution_count": 12,
   "metadata": {},
   "outputs": [
    {
     "data": {
      "text/plain": [
       "[u'code',\n",
       " u'Total',\n",
       " u'Facility',\n",
       " u'Block',\n",
       " u'area',\n",
       " u'Name of facility',\n",
       " 'Reason',\n",
       " 'April 2015',\n",
       " 'May 2015',\n",
       " 'June 2015',\n",
       " 'July 2015',\n",
       " 'August 2015',\n",
       " 'September 2015',\n",
       " 'October 2015',\n",
       " 'November 2015',\n",
       " 'December 2015',\n",
       " 'January 2016',\n",
       " 'February 2016',\n",
       " 'March 2016']"
      ]
     },
     "execution_count": 12,
     "metadata": {},
     "output_type": "execute_result"
    }
   ],
   "source": [
    "cols = d.columns.tolist()\n",
    "cols          #to rearrange the columns in correct order again, we rearrange the list names\n"
   ]
  },
  {
   "cell_type": "code",
   "execution_count": 13,
   "metadata": {},
   "outputs": [],
   "source": [
    "cols = [u'code',\n",
    " 'April 2015',\n",
    " 'May 2015',\n",
    " 'June 2015',\n",
    " 'July 2015',\n",
    " 'August 2015',\n",
    " 'September 2015',\n",
    " 'October 2015',\n",
    " 'November 2015',\n",
    " 'December 2015',\n",
    " 'January 2016',\n",
    " 'February 2016',\n",
    " 'March 2016',\n",
    " u'Total',\n",
    " u'Facility',\n",
    " u'Block',\n",
    " u'area',\n",
    " u'Name of facility',\n",
    " 'Reason']"
   ]
  },
  {
   "cell_type": "code",
   "execution_count": 14,
   "metadata": {},
   "outputs": [],
   "source": [
    "d=d[cols]"
   ]
  },
  {
   "cell_type": "code",
   "execution_count": 15,
   "metadata": {},
   "outputs": [
    {
     "data": {
      "text/html": [
       "<div>\n",
       "<style scoped>\n",
       "    .dataframe tbody tr th:only-of-type {\n",
       "        vertical-align: middle;\n",
       "    }\n",
       "\n",
       "    .dataframe tbody tr th {\n",
       "        vertical-align: top;\n",
       "    }\n",
       "\n",
       "    .dataframe thead th {\n",
       "        text-align: right;\n",
       "    }\n",
       "</style>\n",
       "<table border=\"1\" class=\"dataframe\">\n",
       "  <thead>\n",
       "    <tr style=\"text-align: right;\">\n",
       "      <th></th>\n",
       "      <th>code</th>\n",
       "      <th>April 2015</th>\n",
       "      <th>May 2015</th>\n",
       "      <th>June 2015</th>\n",
       "      <th>July 2015</th>\n",
       "      <th>August 2015</th>\n",
       "      <th>September 2015</th>\n",
       "      <th>October 2015</th>\n",
       "      <th>November 2015</th>\n",
       "      <th>December 2015</th>\n",
       "      <th>January 2016</th>\n",
       "      <th>February 2016</th>\n",
       "      <th>March 2016</th>\n",
       "      <th>Total</th>\n",
       "      <th>Facility</th>\n",
       "      <th>Block</th>\n",
       "      <th>area</th>\n",
       "      <th>Name of facility</th>\n",
       "      <th>Reason</th>\n",
       "    </tr>\n",
       "  </thead>\n",
       "  <tbody>\n",
       "    <tr>\n",
       "      <th>0</th>\n",
       "      <td>M1 |  Ante Natal Care Services ANC | 1.1 |  To...</td>\n",
       "      <td>6</td>\n",
       "      <td>5</td>\n",
       "      <td>9</td>\n",
       "      <td>8</td>\n",
       "      <td>5</td>\n",
       "      <td>5</td>\n",
       "      <td>7</td>\n",
       "      <td>3</td>\n",
       "      <td>6</td>\n",
       "      <td>6</td>\n",
       "      <td>7</td>\n",
       "      <td>4</td>\n",
       "      <td>71</td>\n",
       "      <td>SC</td>\n",
       "      <td>Ramtek</td>\n",
       "      <td>Karwahi</td>\n",
       "      <td>Karwahi</td>\n",
       "      <td>Ante Natal Care Services ANC</td>\n",
       "    </tr>\n",
       "  </tbody>\n",
       "</table>\n",
       "</div>"
      ],
      "text/plain": [
       "                                                code  April 2015  May 2015  \\\n",
       "0  M1 |  Ante Natal Care Services ANC | 1.1 |  To...           6         5   \n",
       "\n",
       "   June 2015  July 2015  August 2015  September 2015  October 2015  \\\n",
       "0          9          8            5               5             7   \n",
       "\n",
       "   November 2015  December 2015  January 2016  February 2016  March 2016  \\\n",
       "0              3              6             6              7           4   \n",
       "\n",
       "   Total Facility   Block     area Name of facility  \\\n",
       "0     71       SC  Ramtek  Karwahi          Karwahi   \n",
       "\n",
       "                            Reason  \n",
       "0    Ante Natal Care Services ANC   "
      ]
     },
     "execution_count": 15,
     "metadata": {},
     "output_type": "execute_result"
    }
   ],
   "source": [
    "\n",
    "d.head(1)"
   ]
  },
  {
   "cell_type": "code",
   "execution_count": 16,
   "metadata": {},
   "outputs": [],
   "source": [
    "d.to_excel('SocialCops_Dataset_Client.xlsx', sheet_name='Sheet1')\n",
    "#According to me this file can be shared with the client. \n",
    "\n",
    "\n"
   ]
  },
  {
   "cell_type": "code",
   "execution_count": 22,
   "metadata": {},
   "outputs": [
    {
     "name": "stderr",
     "output_type": "stream",
     "text": [
      "d:\\python\\lib\\site-packages\\ipykernel_launcher.py:1: SettingWithCopyWarning: \n",
      "A value is trying to be set on a copy of a slice from a DataFrame.\n",
      "Try using .loc[row_indexer,col_indexer] = value instead\n",
      "\n",
      "See the caveats in the documentation: http://pandas.pydata.org/pandas-docs/stable/indexing.html#indexing-view-versus-copy\n",
      "  \"\"\"Entry point for launching an IPython kernel.\n"
     ]
    }
   ],
   "source": [
    "d['Health trend/Indicators'] = d['Reason']\n",
    "d.head(1)\n",
    "d.drop('Reason',axis=1,inplace=True) #Changing the name of the 'Reasons' column to 'Health trend/Indicators') "
   ]
  },
  {
   "cell_type": "code",
   "execution_count": 23,
   "metadata": {},
   "outputs": [
    {
     "data": {
      "text/html": [
       "<div>\n",
       "<style scoped>\n",
       "    .dataframe tbody tr th:only-of-type {\n",
       "        vertical-align: middle;\n",
       "    }\n",
       "\n",
       "    .dataframe tbody tr th {\n",
       "        vertical-align: top;\n",
       "    }\n",
       "\n",
       "    .dataframe thead th {\n",
       "        text-align: right;\n",
       "    }\n",
       "</style>\n",
       "<table border=\"1\" class=\"dataframe\">\n",
       "  <thead>\n",
       "    <tr style=\"text-align: right;\">\n",
       "      <th></th>\n",
       "      <th>code</th>\n",
       "      <th>April 2015</th>\n",
       "      <th>May 2015</th>\n",
       "      <th>June 2015</th>\n",
       "      <th>July 2015</th>\n",
       "      <th>August 2015</th>\n",
       "      <th>September 2015</th>\n",
       "      <th>October 2015</th>\n",
       "      <th>November 2015</th>\n",
       "      <th>December 2015</th>\n",
       "      <th>January 2016</th>\n",
       "      <th>February 2016</th>\n",
       "      <th>March 2016</th>\n",
       "      <th>Total</th>\n",
       "      <th>Facility</th>\n",
       "      <th>Block</th>\n",
       "      <th>area</th>\n",
       "      <th>Name of facility</th>\n",
       "      <th>Health trend/Indicators</th>\n",
       "    </tr>\n",
       "  </thead>\n",
       "  <tbody>\n",
       "    <tr>\n",
       "      <th>0</th>\n",
       "      <td>M1 |  Ante Natal Care Services ANC | 1.1 |  To...</td>\n",
       "      <td>6</td>\n",
       "      <td>5</td>\n",
       "      <td>9</td>\n",
       "      <td>8</td>\n",
       "      <td>5</td>\n",
       "      <td>5</td>\n",
       "      <td>7</td>\n",
       "      <td>3</td>\n",
       "      <td>6</td>\n",
       "      <td>6</td>\n",
       "      <td>7</td>\n",
       "      <td>4</td>\n",
       "      <td>71</td>\n",
       "      <td>SC</td>\n",
       "      <td>Ramtek</td>\n",
       "      <td>Karwahi</td>\n",
       "      <td>Karwahi</td>\n",
       "      <td>Ante Natal Care Services ANC</td>\n",
       "    </tr>\n",
       "  </tbody>\n",
       "</table>\n",
       "</div>"
      ],
      "text/plain": [
       "                                                code  April 2015  May 2015  \\\n",
       "0  M1 |  Ante Natal Care Services ANC | 1.1 |  To...           6         5   \n",
       "\n",
       "   June 2015  July 2015  August 2015  September 2015  October 2015  \\\n",
       "0          9          8            5               5             7   \n",
       "\n",
       "   November 2015  December 2015  January 2016  February 2016  March 2016  \\\n",
       "0              3              6             6              7           4   \n",
       "\n",
       "   Total Facility   Block     area Name of facility  \\\n",
       "0     71       SC  Ramtek  Karwahi          Karwahi   \n",
       "\n",
       "           Health trend/Indicators  \n",
       "0    Ante Natal Care Services ANC   "
      ]
     },
     "execution_count": 23,
     "metadata": {},
     "output_type": "execute_result"
    }
   ],
   "source": [
    "d.head(1)"
   ]
  },
  {
   "cell_type": "code",
   "execution_count": 33,
   "metadata": {},
   "outputs": [
    {
     "data": {
      "text/plain": [
       "<matplotlib.axes._subplots.AxesSubplot at 0x12776c70>"
      ]
     },
     "execution_count": 33,
     "metadata": {},
     "output_type": "execute_result"
    },
    {
     "data": {
      "image/png": "[encoded data removed]",
      "text/plain": [
       "<matplotlib.figure.Figure at 0x1278abf0>"
      ]
     },
     "metadata": {},
     "output_type": "display_data"
    }
   ],
   "source": [
    "sns.barplot(x='Facility', y ='Total', data = d  )\n"
   ]
  },
  {
   "cell_type": "code",
   "execution_count": 35,
   "metadata": {},
   "outputs": [
    {
     "data": {
      "text/plain": [
       "<matplotlib.axes._subplots.AxesSubplot at 0x12772390>"
      ]
     },
     "execution_count": 35,
     "metadata": {},
     "output_type": "execute_result"
    },
    {
     "data": {
      "image/png": "[encoded data removed]",
      "text/plain": [
       "<matplotlib.figure.Figure at 0x1288f190>"
      ]
     },
     "metadata": {},
     "output_type": "display_data"
    }
   ],
   "source": [
    "sns.countplot(x= 'Facility', data = d)"
   ]
  },
  {
   "cell_type": "code",
   "execution_count": 41,
   "metadata": {},
   "outputs": [
    {
     "data": {
      "text/plain": [
       "0"
      ]
     },
     "execution_count": 41,
     "metadata": {},
     "output_type": "execute_result"
    }
   ],
   "source": [
    "malaria_bool = d['Health trend/Indicators']=='Malaria'\n",
    "\n",
    "sum(malaria_bool)\n",
    "\n"
   ]
  },
  {
   "cell_type": "code",
   "execution_count": 42,
   "metadata": {},
   "outputs": [
    {
     "data": {
      "text/plain": [
       "[u'code',\n",
       " 'April 2015',\n",
       " 'May 2015',\n",
       " 'June 2015',\n",
       " 'July 2015',\n",
       " 'August 2015',\n",
       " 'September 2015',\n",
       " 'October 2015',\n",
       " 'November 2015',\n",
       " 'December 2015',\n",
       " 'January 2016',\n",
       " 'February 2016',\n",
       " 'March 2016',\n",
       " u'Total',\n",
       " u'Facility',\n",
       " u'Block',\n",
       " u'area',\n",
       " u'Name of facility',\n",
       " 'Reason']"
      ]
     },
     "execution_count": 42,
     "metadata": {},
     "output_type": "execute_result"
    }
   ],
   "source": [
    "cols \n"
   ]
  },
  {
   "cell_type": "code",
   "execution_count": 43,
   "metadata": {},
   "outputs": [],
   "source": [
    "months = ['April 2015',\n",
    " 'May 2015',\n",
    " 'June 2015',\n",
    " 'July 2015',\n",
    " 'August 2015',\n",
    " 'September 2015',\n",
    " 'October 2015',\n",
    " 'November 2015',\n",
    " 'December 2015',\n",
    " 'January 2016',\n",
    " 'February 2016',\n",
    " 'March 2016']"
   ]
  },
  {
   "cell_type": "code",
   "execution_count": null,
   "metadata": {},
   "outputs": [],
   "source": []
  },
  {
   "cell_type": "code",
   "execution_count": null,
   "metadata": {},
   "outputs": [],
   "source": []
  }
 ],
 "metadata": {
  "kernelspec": {
   "display_name": "Python 2",
   "language": "python",
   "name": "python2"
  },
  "language_info": {
   "codemirror_mode": {
    "name": "ipython",
    "version": 2
   },
   "file_extension": ".py",
   "mimetype": "text/x-python",
   "name": "python",
   "nbconvert_exporter": "python",
   "pygments_lexer": "ipython2",
   "version": "2.7.14"
  }
 },
 "nbformat": 4,
 "nbformat_minor": 2
}
